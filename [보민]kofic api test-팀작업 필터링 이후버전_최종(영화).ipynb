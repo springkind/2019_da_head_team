{
 "cells": [
  {
   "cell_type": "code",
   "execution_count": null,
   "metadata": {},
   "outputs": [],
   "source": [
    "import pandas as pd\n",
    "import datetime\n",
    "import requests\n",
    "import json\n",
    "import math\n",
    "import numpy as np"
   ]
  },
  {
   "cell_type": "markdown",
   "metadata": {},
   "source": [
    "## key 저장"
   ]
  },
  {
   "cell_type": "code",
   "execution_count": null,
   "metadata": {},
   "outputs": [],
   "source": [
    "f = open(\"keyfile.txt\", 'r')\n",
    "key = {}\n",
    "for i in range(1, 11):\n",
    "    key[i] = f.readline().rstrip()\n",
    "    print('key'+str(i))\n",
    "f.close()"
   ]
  },
  {
   "cell_type": "code",
   "execution_count": null,
   "metadata": {},
   "outputs": [],
   "source": [
    "key"
   ]
  },
  {
   "cell_type": "code",
   "execution_count": null,
   "metadata": {},
   "outputs": [],
   "source": [
    "key[1]"
   ]
  },
  {
   "cell_type": "markdown",
   "metadata": {},
   "source": [
    "## 데이터 목록\n",
    "### 1. 영화 목록\n",
    "* INPUT\n",
    "    - 키 값, 현재 페이지, 결과 ROW 의 개수, 영화명, 감독명, 조회시작 개봉연도(YYYY), 조회종료 개봉연도(YYYY), 조회시작 제작연도(YYYY), 조회종료 제작연도(YYYY), 국적코드, 영화유형코드\n",
    "\n",
    "* OUTPUT\n",
    "    - 영화코드, 영화명(국문),영화명(영문), 제작연도, 개봉연도, 영화유형, 제작상태, 제작국가(전체), 영화장르(전체), 대표 제작국가명, 대표 장르명, 영화감독, 영화감독명, 제작사, 제작사 코드, 제작사명\n",
    "\n",
    "### 2. 영화 상세정보\n",
    "* INPUT\n",
    "    - 키 값, 영화코드\n",
    "    \n",
    "* OUTPUT\n",
    "    - 영화코드, 영화명(국문), 영화명(영문), 영화명(원문), 제작연도, 상영시간, 개봉연도, 제작상태명, 영화유형명, 제작국가, 제작국가명, 장르명, 감독, 감독명, 감독명(영문), 배우, 배우명, 배우명(영문), 배역명, 배역명(영문), 상영형태 구분1, 상영형태 구분2, 상영형태명, 심의정보, 심의번호, 관람등급 명칭, 참여 영화사, 참여 영화사 코드, 참여 영화사명, 참여 영화사명(영문), 참여 영화사 분야명, 스텝, 스텝명, 스텝명(영문), 스텝역할명\n",
    "    \n",
    "### 3. 영화사 목록\n",
    "* INPUT\n",
    "    - 키 값, 현재 페이지(default : “1”), 결과 ROW 의 개수(default : “10”), 영화사명, 대표자명, 분류코드(default: 전체)\n",
    "* OUTPUT\n",
    "    - 영화사 코드, 영화사명, 영화사명(영문), 영화사 분류, 대표자명, 필모리스트\n",
    "\n",
    "### 4. 영화사 상세정보\n",
    "* INPUT\n",
    "    - 키 값, 영화사코드\n",
    "* OUTPUT\n",
    "    - 영화사 코드, 영화사명, 영화사명(영문), 대표자명, 영화사 분류, 영화사 분류명, 영화사 필모, 참여 영화코드, 참여 영화명, 영화사 참여 분류명\n",
    "\n",
    "### 5. 영화인 목록\n",
    "* INPUT\n",
    "    - 키 값, 현재 페이지를 지정(default : “1”), 결과 ROW 의 개수(default : “10”), 영화인명, 필모리스트\n",
    "* OUTPUT\n",
    "    - 영화인 코드, 영화인명, 영화인명(영문), 분야, 필모리스트\n",
    "\n",
    "### 6. 영화인 상세정보\n",
    "* INPUT\n",
    "    - 키 값, 영화인코드\n",
    "* OUTPUT\n",
    "    - 영화인 코드, 영화인명, 영화인명(영문), 성별, 영화인 분류명, 영화인 필모, 참여 영화코드, 참여 영화명, 참여 분야, 관련 URL\n"
   ]
  },
  {
   "cell_type": "markdown",
   "metadata": {},
   "source": [
    "## 1. 영화 리스트들 중에서 2019 박스오피스로 필터링 된 영화들 정보 가져오기(xlsx)\n",
    "\n",
    "상영 횟수 40회 이하 아웃라이어 제거 위함(영진위 한국영화성평등소위원회 분석 참고). \n"
   ]
  },
  {
   "cell_type": "code",
   "execution_count": null,
   "metadata": {},
   "outputs": [],
   "source": [
    "movies_2019_filtered = pd.read_excel('KOBIS_boxoffice_2019_filtered.xlsx')\n",
    "movies_2019_filtered = movies_2019_filtered[:-1]\n",
    "movies_2019_filtered"
   ]
  },
  {
   "cell_type": "code",
   "execution_count": null,
   "metadata": {},
   "outputs": [],
   "source": [
    "movies_2019_filtered.isnull().sum()"
   ]
  },
  {
   "cell_type": "code",
   "execution_count": null,
   "metadata": {},
   "outputs": [],
   "source": [
    "movies_2019_filtered.fillna('-', inplace=True)"
   ]
  },
  {
   "cell_type": "code",
   "execution_count": null,
   "metadata": {
    "scrolled": true
   },
   "outputs": [],
   "source": [
    "movies_2019_filtered[movies_2019_filtered['감독 '] == '-']"
   ]
  },
  {
   "cell_type": "markdown",
   "metadata": {},
   "source": [
    "### 영화 기본정보 가져오는 함수"
   ]
  },
  {
   "cell_type": "code",
   "execution_count": null,
   "metadata": {},
   "outputs": [],
   "source": [
    "# 페이지 수, 조회시작 개봉연도, 조회종료 개봉연도를 파라미터(입력값)로 지정해준다.\n",
    "def get_movies(movieNm, year, directorNm):\n",
    "    # 영화 목록 API JSON URL\n",
    "    url = 'http://www.kobis.or.kr/kobisopenapi/webservice/rest/movie/searchMovieList.json'\n",
    "    \n",
    "    # 입력받은 영화이름, 년도, 감독이름으로 API 호출.\n",
    "    if directorNm == '-':\n",
    "        payload = {\n",
    "            'key': key[1]\n",
    "            , 'itemPerPage': '100' # 한페이지에 한번에 불러올 수 있는 최대 데이터의 갯수\n",
    "            , 'movieNm':movieNm\n",
    "            , 'openStartDt': year\n",
    "        }\n",
    "    else:\n",
    "         payload = {\n",
    "            'key': key[1]\n",
    "            , 'itemPerPage': '100' # 한페이지에 한번에 불러올 수 있는 최대 데이터의 갯수\n",
    "            , 'movieNm':movieNm\n",
    "            , 'directorNm':directorNm\n",
    "        }\n",
    "\n",
    "    # 결과를 변수에 담고 json 형식으로 변환해준다.\n",
    "    res = requests.get(url, params=payload).json()\n",
    "    \n",
    "    # 쓸데 없는 겉부분 버리고 영화 리스트 컨텐츠만 가져옴\n",
    "    return res['movieListResult']['movieList']"
   ]
  },
  {
   "cell_type": "code",
   "execution_count": null,
   "metadata": {},
   "outputs": [],
   "source": []
  },
  {
   "cell_type": "code",
   "execution_count": null,
   "metadata": {},
   "outputs": [],
   "source": [
    "# 함수 테스트 감독명 없을 경우\n",
    "res = get_movies('극한직업', 2019, '-')"
   ]
  },
  {
   "cell_type": "code",
   "execution_count": null,
   "metadata": {},
   "outputs": [],
   "source": [
    "pd.DataFrame(res)"
   ]
  },
  {
   "cell_type": "markdown",
   "metadata": {},
   "source": [
    "### 영화 기본정보 가져오는 함수 돌려서 영화 코드 가져오기"
   ]
  },
  {
   "cell_type": "code",
   "execution_count": null,
   "metadata": {},
   "outputs": [],
   "source": [
    "# 영화 몇개나 있는지 확인\n",
    "len(movies_2019_filtered)"
   ]
  },
  {
   "cell_type": "code",
   "execution_count": null,
   "metadata": {},
   "outputs": [],
   "source": [
    "# 컬럼 이름 틀리지 않도록 확인. *'감독 '* 주의\n",
    "movies_2019_filtered.columns"
   ]
  },
  {
   "cell_type": "code",
   "execution_count": null,
   "metadata": {},
   "outputs": [],
   "source": [
    "# 함수에 필요한 정보(영화명, 감독명, 개봉일) 가져오기\n",
    "movieNm_list = movies_2019_filtered['영화명']\n",
    "movieNm_list"
   ]
  },
  {
   "cell_type": "code",
   "execution_count": null,
   "metadata": {},
   "outputs": [],
   "source": [
    "# 감독명은 한명만 있어도 검색 가능\n",
    "directorNm_list = movies_2019_filtered['감독 '].apply(lambda x: x.split(',')[0])\n",
    "directorNm_list"
   ]
  },
  {
   "cell_type": "code",
   "execution_count": null,
   "metadata": {},
   "outputs": [],
   "source": [
    "# 개봉일은 년도로만 검색 가능\n",
    "openYear_list = movies_2019_filtered['개봉일'].apply(lambda x: x.year)\n",
    "openYear_list"
   ]
  },
  {
   "cell_type": "code",
   "execution_count": null,
   "metadata": {},
   "outputs": [],
   "source": [
    "movie_info_list = []\n",
    "\n",
    "for movie in zip(movieNm_list, openYear_list, directorNm_list):\n",
    "    print(movie)\n",
    "    movie_info_list.append(get_movies(movie[0], movie[1], movie[2])[0])"
   ]
  },
  {
   "cell_type": "code",
   "execution_count": null,
   "metadata": {},
   "outputs": [],
   "source": [
    "movie_baisc_info = pd.DataFrame(movie_info_list)\n",
    "movie_baisc_info"
   ]
  },
  {
   "cell_type": "markdown",
   "metadata": {},
   "source": [
    "<br>\\\n",
    "<br>\n",
    "### 영화 상세정보 함수\n",
    "\n",
    "영화코드를 가져왔으니 이제 영화 상세정보를 가져올 수 있습니다."
   ]
  },
  {
   "cell_type": "code",
   "execution_count": null,
   "metadata": {},
   "outputs": [],
   "source": [
    "def get_movie_details(movieCd):\n",
    "    url = 'http://www.kobis.or.kr/kobisopenapi/webservice/rest/movie/searchMovieInfo.json'\n",
    "\n",
    "    payload = {\n",
    "        'key': key[1]\n",
    "        , 'movieCd': movieCd\n",
    "    }\n",
    "\n",
    "    res = requests.get(url, params=payload).json()\n",
    "    \n",
    "    return res['movieInfoResult']['movieInfo']"
   ]
  },
  {
   "cell_type": "markdown",
   "metadata": {},
   "source": [
    "영화 기본 정보에서 알 수 있는 정보는 제외, 이외에 상세정보에서만 얻을 수 있는 데이터들 확인.\n",
    "\n",
    "1. 러닝타임\n",
    "2. 심의 정보\n",
    "3. 감독 정보\n",
    "4. 배우 정보\n",
    "5. 제작사 정보\n",
    "6. 스태프 정보"
   ]
  },
  {
   "cell_type": "code",
   "execution_count": null,
   "metadata": {},
   "outputs": [],
   "source": [
    "# get_movie_details 함수 테스트\n",
    "res = get_movie_details(20182530)\n",
    "res"
   ]
  },
  {
   "cell_type": "markdown",
   "metadata": {},
   "source": [
    "### 후가공을 위한 데이터 확인\n",
    "\n",
    "영화 상세정보 호출 결과 그대로 데이터프레임화 할 수 없으니 필요한 정보들을 종류별로 가져와서 따로따로 저장해서 테이블화 해야겠다.\n",
    "\n",
    "1. 러닝타임"
   ]
  },
  {
   "cell_type": "code",
   "execution_count": null,
   "metadata": {},
   "outputs": [],
   "source": [
    "res['showTm']"
   ]
  },
  {
   "cell_type": "markdown",
   "metadata": {},
   "source": [
    "2. 심의 정보"
   ]
  },
  {
   "cell_type": "code",
   "execution_count": null,
   "metadata": {},
   "outputs": [],
   "source": [
    "res['audits']"
   ]
  },
  {
   "cell_type": "markdown",
   "metadata": {},
   "source": [
    "3. 감독 정보\n",
    "4. 배우 정보\n",
    "5. 제작사 정보\n",
    "6. 스태프 정보"
   ]
  },
  {
   "cell_type": "code",
   "execution_count": null,
   "metadata": {},
   "outputs": [],
   "source": [
    "res['directors']"
   ]
  },
  {
   "cell_type": "code",
   "execution_count": null,
   "metadata": {},
   "outputs": [],
   "source": [
    "res['actors']"
   ]
  },
  {
   "cell_type": "code",
   "execution_count": null,
   "metadata": {},
   "outputs": [],
   "source": [
    "res['companys']"
   ]
  },
  {
   "cell_type": "code",
   "execution_count": null,
   "metadata": {},
   "outputs": [],
   "source": [
    "res['staffs']"
   ]
  },
  {
   "cell_type": "markdown",
   "metadata": {},
   "source": [
    "### 후가공\n",
    "\n",
    "1. 상세정보를 확인하고 싶은 영화리스트에서 영화 코드만 뽑아옵니다.\n",
    "2. for문 돌면서 get_movie_details로 API 호출.\n",
    "3. 각각의 영화에 대한 API 호출 결과를 받아서 필요한 정보들을 데이터프레임화 할 수 있는 형태로 리스트에 각각 저장\n",
    "4. 필요한 경우에 영화 코드로 조인해서 하나의 데이터로 사용할 수 있게 각각의 데이터와 영화코드 함께 딕셔너리 형태로 저장"
   ]
  },
  {
   "cell_type": "code",
   "execution_count": null,
   "metadata": {},
   "outputs": [],
   "source": [
    "# 영화 코드만 뽑아오기\n",
    "movieCd_list = movie_baisc_info['movieCd']"
   ]
  },
  {
   "cell_type": "code",
   "execution_count": null,
   "metadata": {},
   "outputs": [],
   "source": [
    "movie_showTm = []\n",
    "movie_audits = []\n",
    "movie_directors = []\n",
    "movie_actors = []\n",
    "movie_staffs = []\n",
    "movie_companys = []\n",
    "\n",
    "# 테스트 할 때는 `movieCd_list.iloc[:1]` 하나만 돌려보세요.\n",
    "\n",
    "# movieCd_list 길이가 3000이 넘어갈 경우 for문을 쪼개서 돌려야 합니다. 함수 정의된 부분으로 가서 key도 바꿔줘야 해요!.\n",
    "# ex) movieCd_list.iloc[:3000] 이런 식으로 구간을 나눠서 여러번 함수를 실행시켜야겠죠?\n",
    "for code in movieCd_list:\n",
    "    res = get_movie_details(code)\n",
    "    movieNm = res['movieNm']\n",
    "    print(code)\n",
    "    \n",
    "\n",
    "    showTm_dict = {}\n",
    "    showTm_dict['movieCd'] = code\n",
    "    showTm_dict['showTm'] = res['showTm']\n",
    "    movie_showTm.append(showTm_dict)\n",
    "\n",
    "    for audit in res['audits']:\n",
    "        audits_dict = {}\n",
    "        audits_dict['movieCd'] = code\n",
    "        audits_dict['auditNo'] = audit['auditNo']\n",
    "        audits_dict['watchGradeNm'] = audit['watchGradeNm']\n",
    "        movie_audits.append(audits_dict)\n",
    "    \n",
    "    for director in res['directors']:\n",
    "        person_info = {}\n",
    "        person_info['movieCd'] = code\n",
    "        person_info['movieNm'] = movieNm\n",
    "        person_info['peopleNm'] = director['peopleNm']\n",
    "        person_info['repRoleNm'] = '감독'\n",
    "        movie_directors.append(person_info)\n",
    "    for actor in res['actors']:\n",
    "        person_info = {}\n",
    "        person_info['movieCd'] = code\n",
    "        person_info['movieNm'] = movieNm\n",
    "        person_info['peopleNm'] = actor['peopleNm']\n",
    "        person_info['repRoleNm'] = '배우'\n",
    "        person_info['cast'] = actor['cast']\n",
    "        movie_actors.append(person_info)\n",
    "    for staff in res['staffs']:\n",
    "        person_info = {}\n",
    "        person_info['movieCd'] = code\n",
    "        person_info['movieNm'] = movieNm\n",
    "        person_info['peopleNm'] = staff['peopleNm']\n",
    "        person_info['staffRoleNm'] = staff['staffRoleNm']\n",
    "        movie_staffs.append(person_info)\n",
    "    \n",
    "    for company in res['companys']:\n",
    "        person_info = {}\n",
    "        person_info['movieCd'] = code\n",
    "        person_info['companyCd'] = company['companyCd']\n",
    "        person_info['companyNm'] = company['companyNm']\n",
    "        person_info['companyPartNm'] = company['companyPartNm']\n",
    "        movie_companys.append(person_info)"
   ]
  },
  {
   "cell_type": "markdown",
   "metadata": {},
   "source": [
    "추려진 데이터들 확인"
   ]
  },
  {
   "cell_type": "code",
   "execution_count": null,
   "metadata": {},
   "outputs": [],
   "source": [
    "showTm_df = pd.DataFrame(movie_showTm)\n",
    "showTm_df.to_csv('showTm_2019_ko.csv', index=False)"
   ]
  },
  {
   "cell_type": "code",
   "execution_count": null,
   "metadata": {},
   "outputs": [],
   "source": [
    "audits_df = pd.DataFrame(movie_audits)\n",
    "audits_df.to_csv('audits_2019_ko.csv', index=False)"
   ]
  },
  {
   "cell_type": "code",
   "execution_count": null,
   "metadata": {},
   "outputs": [],
   "source": [
    "directors_df = pd.DataFrame(movie_directors)\n",
    "directors_df.to_csv('directors_2019_ko.csv', index=False)"
   ]
  },
  {
   "cell_type": "code",
   "execution_count": null,
   "metadata": {},
   "outputs": [],
   "source": [
    "actors_df = pd.DataFrame(movie_actors)\n",
    "actors_df.to_csv('actors_2019_ko.csv', index=False)"
   ]
  },
  {
   "cell_type": "code",
   "execution_count": null,
   "metadata": {},
   "outputs": [],
   "source": [
    "staffs_df = pd.DataFrame(movie_staffs)\n",
    "staffs_df.to_csv('staffs_2019_ko.csv', index=False)"
   ]
  },
  {
   "cell_type": "code",
   "execution_count": null,
   "metadata": {},
   "outputs": [],
   "source": [
    "companys_df = pd.DataFrame(movie_companys)\n",
    "companys_df.to_csv('companys_2019_ko.csv', index=False)"
   ]
  },
  {
   "cell_type": "markdown",
   "metadata": {},
   "source": [
    "### # 주의 # 한 테스크가 끝날 때마다 csv로 저장하고 다음 작업 시작할 때는 저장된 csv 불러와서 시작해야 합니다."
   ]
  },
  {
   "cell_type": "code",
   "execution_count": null,
   "metadata": {},
   "outputs": [],
   "source": [
    "directors_df = pd.read_csv('directors_2019_ko.csv')"
   ]
  },
  {
   "cell_type": "code",
   "execution_count": null,
   "metadata": {},
   "outputs": [],
   "source": [
    "actors_df = pd.read_csv('actors_2019_ko.csv')"
   ]
  },
  {
   "cell_type": "code",
   "execution_count": null,
   "metadata": {},
   "outputs": [],
   "source": [
    "staffs_df = pd.read_csv('staffs_2019_ko.csv')"
   ]
  },
  {
   "cell_type": "code",
   "execution_count": null,
   "metadata": {},
   "outputs": [],
   "source": [
    "companys_df = pd.read_csv('companys_2019_ko.csv')"
   ]
  },
  {
   "cell_type": "markdown",
   "metadata": {},
   "source": [
    "<br>\\\n",
    "<br>\\\n",
    "<br>\n",
    "\n",
    "### 잘 돌아가다가 KeyError: 'peopleInfoResult'가 발생했을 때.\n",
    "\n",
    "해당에러가 뜰 경우에는 key 사용 한도를 초과한 것입니다.\n",
    "\n",
    "멈추기 전까지는 데이터가 다 저장되어있으니 당황하지 마시고 어디까지 저장되었는지 아래처럼 범위를 이용해서 또는 .tail() 함수를 이용해 데이터를 확인하고 다시 시작해야하는 부분이 어디인지 알아냅니다."
   ]
  },
  {
   "cell_type": "code",
   "execution_count": null,
   "metadata": {
    "scrolled": true
   },
   "outputs": [],
   "source": [
    "# 데이터 확인\n",
    "staff_detail_list_2[-10:]"
   ]
  },
  {
   "cell_type": "code",
   "execution_count": null,
   "metadata": {
    "scrolled": true
   },
   "outputs": [],
   "source": [
    "# '김효주', '아메리카 타운' 정보가 맨 마지막일 경우\n",
    "# index값을 확인한다. 3000까지 뽑힌거니까 3001부터 데이터를 다시 가져오면 됨.\n",
    "peopleCd_list[(peopleCd_list['peopleNm'] == '김효주') & (peopleCd_list['movieNm'] == '아메리카 타운')]"
   ]
  },
  {
   "cell_type": "code",
   "execution_count": null,
   "metadata": {},
   "outputs": [],
   "source": []
  }
 ],
 "metadata": {
  "kernelspec": {
   "display_name": "Python 3",
   "language": "python",
   "name": "python3"
  },
  "language_info": {
   "codemirror_mode": {
    "name": "ipython",
    "version": 3
   },
   "file_extension": ".py",
   "mimetype": "text/x-python",
   "name": "python",
   "nbconvert_exporter": "python",
   "pygments_lexer": "ipython3",
   "version": "3.6.8"
  }
 },
 "nbformat": 4,
 "nbformat_minor": 2
}
